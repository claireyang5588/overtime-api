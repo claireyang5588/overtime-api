{
 "cells": [
  {
   "cell_type": "code",
   "execution_count": null,
   "id": "4dde33ee",
   "metadata": {},
   "outputs": [],
   "source": [
    "from flask import Flask, request, jsonify\n",
    "\n",
    "app = Flask(__name__)\n",
    "\n",
    "# 模擬資料庫：存放加班紀錄\n",
    "overtime_data = {\n",
    "    \"A123456\": [\n",
    "        {\"date\": \"2025-04-10\", \"hours\": 4},\n",
    "        {\"date\": \"2025-04-12\", \"hours\": 2}\n",
    "    ]\n",
    "}\n",
    "\n",
    "# ➕ 補上這個基礎路由\n",
    "@app.route('/v1/demo/hr', methods=['GET'])\n",
    "def base_hr():\n",
    "    return jsonify({\"message\": \"HR API is running!\"})\n",
    "\n",
    "# 查詢加班紀錄\n",
    "@app.route('/v1/demo/hr/<emp_id>/overtime-stats', methods=['GET'])\n",
    "def get_overtime(emp_id):\n",
    "    records = overtime_data.get(emp_id, [])\n",
    "    total_hours = sum(r['hours'] for r in records)\n",
    "    return jsonify({\n",
    "        \"employeeId\": emp_id,\n",
    "        \"totalHours\": total_hours,\n",
    "        \"records\": records\n",
    "    })\n",
    "\n",
    "# 申請加班\n",
    "@app.route('/v1/demo/hr/<emp_id>/overtime', methods=['POST'])\n",
    "def apply_overtime(emp_id):\n",
    "    data = request.get_json()\n",
    "    record = {\n",
    "        \"date\": data.get(\"startTime\")[:10],  # 只取日期\n",
    "        \"hours\": data.get(\"hours\")\n",
    "    }\n",
    "    overtime_data.setdefault(emp_id, []).append(record)\n",
    "    return jsonify({\"message\": \"加班申請成功\", \"record\": record}), 201\n",
    "\n",
    "if __name__ == '__main__':\n",
    "    app.run(port=5000, debug=True)"
   ]
  }
 ],
 "metadata": {
  "kernelspec": {
   "display_name": "Python 3 (ipykernel)",
   "language": "python",
   "name": "python3"
  },
  "language_info": {
   "codemirror_mode": {
    "name": "ipython",
    "version": 3
   },
   "file_extension": ".py",
   "mimetype": "text/x-python",
   "name": "python",
   "nbconvert_exporter": "python",
   "pygments_lexer": "ipython3",
   "version": "3.11.3"
  }
 },
 "nbformat": 4,
 "nbformat_minor": 5
}
